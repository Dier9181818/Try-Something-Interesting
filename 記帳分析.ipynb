{
 "cells": [
  {
   "cell_type": "code",
   "execution_count": 218,
   "metadata": {},
   "outputs": [
    {
     "name": "stdout",
     "output_type": "stream",
     "text": [
      "   Date  Breakfast  Lunch  Dinner  Dessert  Drink  Cat  Transport  \\\n",
      "0     1          0      0     125        0     15    0          0   \n",
      "1     2        155      0     280       25      0    0          0   \n",
      "2     3        270      0       0       53     40  425         76   \n",
      "3     4        130      0     283       62      0    0          0   \n",
      "4     5        165      0     194       96      0    0          0   \n",
      "\n",
      "   Have0to0buy  Want0to0buy  Total  Income  \n",
      "0            0          300    440   10000  \n",
      "1            0         2529   2989       0  \n",
      "2          590         1227   2681       0  \n",
      "3            0           37    512       0  \n",
      "4          100          219    774       0  \n"
     ]
    }
   ],
   "source": [
    "import pandas as pd\n",
    "import numpy as np\n",
    "from sklearn import preprocessing\n",
    "from sklearn.model_selection import train_test_split\n",
    "from sklearn.metrics import accuracy_score\n",
    "\n",
    "df = pd.read_csv('Database-家榆的記帳表.csv')\n",
    "\n",
    "print(df.head())"
   ]
  },
  {
   "cell_type": "code",
   "execution_count": 219,
   "metadata": {},
   "outputs": [
    {
     "name": "stdout",
     "output_type": "stream",
     "text": [
      "   Date  Breakfast  Lunch  Dinner  Dessert  Drink  Cat  Transport  \\\n",
      "0     1          0      0     125        0     15    0          0   \n",
      "1     2        155      0     280       25      0    0          0   \n",
      "2     3        270      0       0       53     40  425         76   \n",
      "3     4        130      0     283       62      0    0          0   \n",
      "4     5        165      0     194       96      0    0          0   \n",
      "\n",
      "   Have0to0buy  Want0to0buy  Total  Income  Yesterday payment  Today payment  \\\n",
      "0            0          300    440   10000                NaN            440   \n",
      "1            0         2529   2989       0              440.0           2989   \n",
      "2          590         1227   2681       0             2989.0           2681   \n",
      "3            0           37    512       0             2681.0            512   \n",
      "4          100          219    774       0              512.0            774   \n",
      "\n",
      "   Raise?  Up  \n",
      "0     NaN   0  \n",
      "1  2549.0   1  \n",
      "2  -308.0   0  \n",
      "3 -2169.0   0  \n",
      "4   262.0   1  \n"
     ]
    }
   ],
   "source": [
    "df['Yesterday payment'] = df['Total'].shift(1)\n",
    "df['Today payment'] = df['Total'].shift(0)\n",
    "\n",
    "df['Raise?'] = df['Today payment'] - df['Yesterday payment']\n",
    "\n",
    "df['Up'] = df['Raise?'].apply(lambda x:1 if x>0 else 0)\n",
    "print(df.head())"
   ]
  },
  {
   "cell_type": "code",
   "execution_count": 220,
   "metadata": {},
   "outputs": [
    {
     "name": "stdout",
     "output_type": "stream",
     "text": [
      "   Date  Breakfast  Lunch  Dinner  Dessert  Drink  Cat  Transport  \\\n",
      "0     1          0      0     125        0     15    0          0   \n",
      "1     2        155      0     280       25      0    0          0   \n",
      "2     3        270      0       0       53     40  425         76   \n",
      "3     4        130      0     283       62      0    0          0   \n",
      "4     5        165      0     194       96      0    0          0   \n",
      "\n",
      "   Have0to0buy  Want0to0buy  Total  Income  Yesterday payment  Today payment  \\\n",
      "0            0          300    440   10000                NaN            440   \n",
      "1            0         2529   2989       0              440.0           2989   \n",
      "2          590         1227   2681       0             2989.0           2681   \n",
      "3            0           37    512       0             2681.0            512   \n",
      "4          100          219    774       0              512.0            774   \n",
      "\n",
      "   Raise?  Up  \n",
      "0     NaN   0  \n",
      "1  2549.0   1  \n",
      "2  -308.0   0  \n",
      "3 -2169.0   0  \n",
      "4   262.0   1  \n"
     ]
    }
   ],
   "source": [
    "df.dropna()\n",
    "df = df.reset_index(drop=True)\n",
    "\n",
    "print(df.head())"
   ]
  },
  {
   "cell_type": "code",
   "execution_count": 221,
   "metadata": {},
   "outputs": [
    {
     "name": "stdout",
     "output_type": "stream",
     "text": [
      "     yesterday_payment_ratio  target\n",
      "0                   6.793182     0.0\n",
      "1                   0.896956     1.0\n",
      "2                   0.190974     0.0\n",
      "3                   1.511719     0.0\n",
      "4                   0.512920     1.0\n",
      "..                       ...     ...\n",
      "539                 1.240000     1.0\n",
      "540                 0.821632     1.0\n",
      "541                 0.715935     0.0\n",
      "542                 1.032258     0.0\n",
      "543                 0.468750     1.0\n",
      "\n",
      "[544 rows x 2 columns]\n",
      "   Date  Breakfast  Lunch  Dinner  Dessert  Drink  Cat  Transport  \\\n",
      "0     1          0      0     125        0     15    0          0   \n",
      "1     2        155      0     280       25      0    0          0   \n",
      "2     3        270      0       0       53     40  425         76   \n",
      "3     4        130      0     283       62      0    0          0   \n",
      "4     5        165      0     194       96      0    0          0   \n",
      "\n",
      "   Have0to0buy  Want0to0buy  Total  Income  Yesterday payment  Today payment  \\\n",
      "0            0          300    440   10000                NaN            440   \n",
      "1            0         2529   2989       0              440.0           2989   \n",
      "2          590         1227   2681       0             2989.0           2681   \n",
      "3            0           37    512       0             2681.0            512   \n",
      "4          100          219    774       0              512.0            774   \n",
      "\n",
      "   Raise?  Up  \n",
      "0     NaN   0  \n",
      "1  2549.0   1  \n",
      "2  -308.0   0  \n",
      "3 -2169.0   0  \n",
      "4   262.0   1  \n"
     ]
    }
   ],
   "source": [
    "df_normal = pd.DataFrame()\n",
    "\n",
    "# 用比例學習（重複性高） -> 模型才學得到東西\n",
    "df_normal['yesterday_payment_ratio'] = df['Total'].apply(pd.to_numeric) / df['Yesterday payment'].apply(pd.to_numeric)   # 數值比例\n",
    "\n",
    "df_normal['target'] = df['Up'].shift(1)  # 預測漲or跌\n",
    "\n",
    "df_normal = df_normal.dropna()\n",
    "df_normal = df_normal.reset_index(drop=True)\n",
    "print(df_normal)\n",
    "\n",
    "print(df.head())"
   ]
  },
  {
   "cell_type": "code",
   "execution_count": 222,
   "metadata": {},
   "outputs": [],
   "source": [
    "X = df_normal[['yesterday_payment_ratio']]\n",
    "y = df_normal['target']"
   ]
  },
  {
   "cell_type": "code",
   "execution_count": 223,
   "metadata": {},
   "outputs": [
    {
     "name": "stdout",
     "output_type": "stream",
     "text": [
      "     yesterday_payment_ratio\n",
      "289                 1.676119\n",
      "245                 0.535311\n",
      "339                 0.354063\n",
      "457                 1.145078\n",
      "300                 0.069108\n",
      "..                       ...\n",
      "129                 0.348411\n",
      "144                 1.037946\n",
      "72                  4.263975\n",
      "235                 1.553191\n",
      "37                  0.204082\n",
      "\n",
      "[435 rows x 1 columns]\n",
      "     yesterday_payment_ratio\n",
      "244                 0.152850\n",
      "132                 1.837288\n",
      "511                 0.994413\n",
      "133                 4.540590\n",
      "482                 0.239819\n",
      "..                       ...\n",
      "187                10.517241\n",
      "474                 0.368870\n",
      "473                 1.542763\n",
      "40                  0.063230\n",
      "362                 0.166954\n",
      "\n",
      "[109 rows x 1 columns]\n"
     ]
    }
   ],
   "source": [
    "X_train, X_test, y_train, y_test = train_test_split(X, y, test_size=0.2, random_state=1)\n",
    "\n",
    "print(X_train)\n",
    "print(X_test)"
   ]
  },
  {
   "cell_type": "code",
   "execution_count": 224,
   "metadata": {},
   "outputs": [],
   "source": [
    "scaler = preprocessing.StandardScaler().fit(X_train)\n",
    "X_train = scaler.transform(X_train)"
   ]
  },
  {
   "cell_type": "code",
   "execution_count": 225,
   "metadata": {},
   "outputs": [],
   "source": [
    "from sklearn.svm import SVC\n",
    "model = SVC(probability= True)  \n",
    "\n",
    "model.fit(X_train, y_train)\n",
    "\n",
    "X_test = scaler.transform(X_test)\n",
    "y_pred = model.predict(X_test)"
   ]
  },
  {
   "cell_type": "code",
   "execution_count": 226,
   "metadata": {},
   "outputs": [
    {
     "name": "stdout",
     "output_type": "stream",
     "text": [
      "number of correct sample: 72\n",
      "accuracy: 0.6605504587155964\n",
      "confusion matrix: [[14 27]\n",
      " [10 58]]\n",
      "====================\n",
      "Precision: 0.6823529411764706\n",
      "Recall: 0.8529411764705882\n"
     ]
    }
   ],
   "source": [
    "accuracy = accuracy_score(y_test, y_pred)\n",
    "num_correct_samples = accuracy_score(y_test, y_pred, normalize=False)\n",
    "con_matrix = confusion_matrix(y_test, y_pred)\n",
    "\n",
    "print('number of correct sample: {}'.format(num_correct_samples))\n",
    "print('accuracy: {}'.format(accuracy))\n",
    "print('confusion matrix: {}'.format(con_matrix))\n",
    "print('====================')\n",
    "\n",
    "from sklearn.metrics import precision_score\n",
    "print(f'Precision: {precision_score(y_test, y_pred)}')\n",
    "\n",
    "from sklearn.metrics import recall_score\n",
    "print(f'Recall: {recall_score(y_test, y_pred)}')"
   ]
  }
 ],
 "metadata": {
  "kernelspec": {
   "display_name": "Python 3.9.12",
   "language": "python",
   "name": "python3"
  },
  "language_info": {
   "codemirror_mode": {
    "name": "ipython",
    "version": 3
   },
   "file_extension": ".py",
   "mimetype": "text/x-python",
   "name": "python",
   "nbconvert_exporter": "python",
   "pygments_lexer": "ipython3",
   "version": "3.9.12"
  },
  "orig_nbformat": 4,
  "vscode": {
   "interpreter": {
    "hash": "fc613118f8dc58552131560f33b1a31287f53932682ba9b7a9ca359e44c6997d"
   }
  }
 },
 "nbformat": 4,
 "nbformat_minor": 2
}
